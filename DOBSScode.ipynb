{
  "nbformat": 4,
  "nbformat_minor": 0,
  "metadata": {
    "colab": {
      "provenance": []
    },
    "kernelspec": {
      "name": "python3",
      "display_name": "Python 3"
    },
    "language_info": {
      "name": "python"
    }
  },
  "cells": [
    {
      "cell_type": "code",
      "execution_count": 8,
      "metadata": {
        "colab": {
          "base_uri": "https://localhost:8080/",
          "height": 1000
        },
        "id": "_dUddFrfXYOT",
        "outputId": "1c4612c6-be89-4c78-e427-3aeee65fd430"
      },
      "outputs": [
        {
          "output_type": "stream",
          "name": "stderr",
          "text": [
            "<ipython-input-8-429fd323f361>:23: DeprecationWarning: Problem.add_variable is deprecated: Variables can now be created independent of problems, and do not need to be added to any problem explicitly.\n",
            "  x = prob.add_variable('x',l,lower=0,upper=1)\n",
            "<ipython-input-8-429fd323f361>:24: DeprecationWarning: Problem.add_variable is deprecated: Variables can now be created independent of problems, and do not need to be added to any problem explicitly.\n",
            "  na = prob.add_variable('na',(tnum,m),'binary')\n",
            "<ipython-input-8-429fd323f361>:25: DeprecationWarning: Problem.add_variable is deprecated: Variables can now be created independent of problems, and do not need to be added to any problem explicitly.\n",
            "  v = prob.add_variable('v',tnum)\n",
            "<ipython-input-8-429fd323f361>:26: DeprecationWarning: new_param is deprecated: Use picos.Constant instead.\n",
            "  rfa = pic.new_param('rfa',AttackerRF)\n",
            "<ipython-input-8-429fd323f361>:27: DeprecationWarning: new_param is deprecated: Use picos.Constant instead.\n",
            "  rfd = pic.new_param('rfd',DefenderRF)\n",
            "<ipython-input-8-429fd323f361>:28: DeprecationWarning: new_param is deprecated: Use picos.Constant instead.\n",
            "  pr = pic.new_param('pr',Prob)\n",
            "<ipython-input-8-429fd323f361>:35: DeprecationWarning: Expression.__gt__ is deprecated: PICOS treats all inequalities as non-strict. Using the strict inequality comparison operators may lead to unexpected results when dealing with integer problems.\n",
            "  prob.add_list_of_constraints([v[j]-(x.T*rfa[j])[i]>0 for i in range(m)],'i','[m]')\n",
            "<ipython-input-8-429fd323f361>:35: DeprecationWarning: Arguments 'it', 'indices' and 'key' to add_list_of_constraints are deprecated and ignored.\n",
            "  prob.add_list_of_constraints([v[j]-(x.T*rfa[j])[i]>0 for i in range(m)],'i','[m]')\n",
            "<ipython-input-8-429fd323f361>:36: DeprecationWarning: Expression.__lt__ is deprecated: PICOS treats all inequalities as non-strict. Using the strict inequality comparison operators may lead to unexpected results when dealing with integer problems.\n",
            "  prob.add_list_of_constraints([v[j]-(x.T*rfa[j])[i]<1000000*(1-na[j,i]) for i in range(m)],'i','[m]')\n",
            "<ipython-input-8-429fd323f361>:36: DeprecationWarning: Arguments 'it', 'indices' and 'key' to add_list_of_constraints are deprecated and ignored.\n",
            "  prob.add_list_of_constraints([v[j]-(x.T*rfa[j])[i]<1000000*(1-na[j,i]) for i in range(m)],'i','[m]')\n",
            "<ipython-input-8-429fd323f361>:44: DeprecationWarning: Option 'verbose' is deprecated, use 'verbosity'.\n",
            "  prob.solve(verbose=0)\n"
          ]
        },
        {
          "output_type": "error",
          "ename": "SolutionFailure",
          "evalue": "ignored",
          "traceback": [
            "\u001b[0;31m---------------------------------------------------------------------------\u001b[0m",
            "\u001b[0;31mNoStrategyFound\u001b[0m                           Traceback (most recent call last)",
            "\u001b[0;32m/usr/local/lib/python3.10/dist-packages/picos/modeling/problem.py\u001b[0m in \u001b[0;36msolve\u001b[0;34m(self, **extra_options)\u001b[0m\n\u001b[1;32m   1783\u001b[0m                 \u001b[0;32mtry\u001b[0m\u001b[0;34m:\u001b[0m\u001b[0;34m\u001b[0m\u001b[0;34m\u001b[0m\u001b[0m\n\u001b[0;32m-> 1784\u001b[0;31m                     self._strategy = Strategy.from_problem(\n\u001b[0m\u001b[1;32m   1785\u001b[0m                         self, **extra_options)\n",
            "\u001b[0;32m/usr/local/lib/python3.10/dist-packages/picos/modeling/strategy.py\u001b[0m in \u001b[0;36mfrom_problem\u001b[0;34m(cls, problem, **extra_options)\u001b[0m\n\u001b[1;32m    330\u001b[0m \u001b[0;34m\u001b[0m\u001b[0m\n\u001b[0;32m--> 331\u001b[0;31m             \u001b[0;32mraise\u001b[0m \u001b[0mNoStrategyFound\u001b[0m\u001b[0;34m(\u001b[0m\u001b[0msynopsis\u001b[0m\u001b[0;34m)\u001b[0m\u001b[0;34m\u001b[0m\u001b[0;34m\u001b[0m\u001b[0m\n\u001b[0m\u001b[1;32m    332\u001b[0m \u001b[0;34m\u001b[0m\u001b[0m\n",
            "\u001b[0;31mNoStrategyFound\u001b[0m: No problem reformulation strategy found.\nSelected reasons for discarding reachable problem formulations:\n  CVXOPT does not support:\n    - Optimizing QuadraticExpression.\n    - Representing BinaryVariable.\n  ECOS via ecos-python does not support:\n    - Optimizing QuadraticExpression.\n    - Obeying NonconvexQuadraticConstraint.\n  OSQP does not support:\n    - QPs with a nonconvex objective.\n    - Representing BinaryVariable.",
            "\nThe above exception was the direct cause of the following exception:\n",
            "\u001b[0;31mSolutionFailure\u001b[0m                           Traceback (most recent call last)",
            "\u001b[0;32m<ipython-input-8-429fd323f361>\u001b[0m in \u001b[0;36m<cell line: 47>\u001b[0;34m()\u001b[0m\n\u001b[1;32m     45\u001b[0m     \u001b[0;32mreturn\u001b[0m \u001b[0mnp\u001b[0m\u001b[0;34m.\u001b[0m\u001b[0marray\u001b[0m\u001b[0;34m(\u001b[0m\u001b[0mx\u001b[0m\u001b[0;34m)\u001b[0m\u001b[0;34m,\u001b[0m\u001b[0mnp\u001b[0m\u001b[0;34m.\u001b[0m\u001b[0marray\u001b[0m\u001b[0;34m(\u001b[0m\u001b[0mobj\u001b[0m\u001b[0;34m)\u001b[0m\u001b[0;34m\u001b[0m\u001b[0;34m\u001b[0m\u001b[0m\n\u001b[1;32m     46\u001b[0m \u001b[0;34m\u001b[0m\u001b[0m\n\u001b[0;32m---> 47\u001b[0;31m \u001b[0md0\u001b[0m\u001b[0;34m,\u001b[0m\u001b[0mrew0\u001b[0m \u001b[0;34m=\u001b[0m \u001b[0mDOBSS\u001b[0m\u001b[0;34m(\u001b[0m\u001b[0mAttackerRF\u001b[0m\u001b[0;34m,\u001b[0m\u001b[0mDefenderRF\u001b[0m\u001b[0;34m,\u001b[0m\u001b[0mProb\u001b[0m\u001b[0;34m)\u001b[0m\u001b[0;34m\u001b[0m\u001b[0;34m\u001b[0m\u001b[0m\n\u001b[0m\u001b[1;32m     48\u001b[0m \u001b[0mprint\u001b[0m\u001b[0;34m(\u001b[0m\u001b[0;34m\"Final Solution:\\n\"\u001b[0m\u001b[0;34m)\u001b[0m\u001b[0;34m\u001b[0m\u001b[0;34m\u001b[0m\u001b[0m\n\u001b[1;32m     49\u001b[0m \u001b[0mprint\u001b[0m\u001b[0;34m(\u001b[0m\u001b[0;34m\"Stackelberg Strategy:\\n\"\u001b[0m\u001b[0;34m,\u001b[0m\u001b[0md0\u001b[0m\u001b[0;34m)\u001b[0m\u001b[0;34m\u001b[0m\u001b[0;34m\u001b[0m\u001b[0m\n",
            "\u001b[0;32m<ipython-input-8-429fd323f361>\u001b[0m in \u001b[0;36mDOBSS\u001b[0;34m(AttackerRF, DefenderRF, Prob)\u001b[0m\n\u001b[1;32m     42\u001b[0m     \u001b[0;31m#obj = pic.sum([pr[p]*x.T*rfd[p]*(na[p,:]).T for p in range(tnum)],'p','[tnum]')\u001b[0m\u001b[0;34m\u001b[0m\u001b[0;34m\u001b[0m\u001b[0m\n\u001b[1;32m     43\u001b[0m     \u001b[0mprob\u001b[0m\u001b[0;34m.\u001b[0m\u001b[0mset_objective\u001b[0m\u001b[0;34m(\u001b[0m\u001b[0;34m'max'\u001b[0m\u001b[0;34m,\u001b[0m\u001b[0mobj\u001b[0m\u001b[0;34m)\u001b[0m\u001b[0;34m\u001b[0m\u001b[0;34m\u001b[0m\u001b[0m\n\u001b[0;32m---> 44\u001b[0;31m     \u001b[0mprob\u001b[0m\u001b[0;34m.\u001b[0m\u001b[0msolve\u001b[0m\u001b[0;34m(\u001b[0m\u001b[0mverbose\u001b[0m\u001b[0;34m=\u001b[0m\u001b[0;36m0\u001b[0m\u001b[0;34m)\u001b[0m\u001b[0;34m\u001b[0m\u001b[0;34m\u001b[0m\u001b[0m\n\u001b[0m\u001b[1;32m     45\u001b[0m     \u001b[0;32mreturn\u001b[0m \u001b[0mnp\u001b[0m\u001b[0;34m.\u001b[0m\u001b[0marray\u001b[0m\u001b[0;34m(\u001b[0m\u001b[0mx\u001b[0m\u001b[0;34m)\u001b[0m\u001b[0;34m,\u001b[0m\u001b[0mnp\u001b[0m\u001b[0;34m.\u001b[0m\u001b[0marray\u001b[0m\u001b[0;34m(\u001b[0m\u001b[0mobj\u001b[0m\u001b[0;34m)\u001b[0m\u001b[0;34m\u001b[0m\u001b[0;34m\u001b[0m\u001b[0m\n\u001b[1;32m     46\u001b[0m \u001b[0;34m\u001b[0m\u001b[0m\n",
            "\u001b[0;32m/usr/local/lib/python3.10/dist-packages/picos/modeling/problem.py\u001b[0m in \u001b[0;36msolve\u001b[0;34m(self, **extra_options)\u001b[0m\n\u001b[1;32m   1790\u001b[0m                         \u001b[0mprint\u001b[0m\u001b[0;34m(\u001b[0m\u001b[0ms\u001b[0m\u001b[0;34m,\u001b[0m \u001b[0mflush\u001b[0m\u001b[0;34m=\u001b[0m\u001b[0;32mTrue\u001b[0m\u001b[0;34m)\u001b[0m\u001b[0;34m\u001b[0m\u001b[0;34m\u001b[0m\u001b[0m\n\u001b[1;32m   1791\u001b[0m \u001b[0;34m\u001b[0m\u001b[0m\n\u001b[0;32m-> 1792\u001b[0;31m                     \u001b[0;32mraise\u001b[0m \u001b[0mSolutionFailure\u001b[0m\u001b[0;34m(\u001b[0m\u001b[0;36m1\u001b[0m\u001b[0;34m,\u001b[0m \u001b[0;34m\"No solution strategy found.\"\u001b[0m\u001b[0;34m)\u001b[0m\u001b[0;31m \u001b[0m\u001b[0;31m\\\u001b[0m\u001b[0;34m\u001b[0m\u001b[0;34m\u001b[0m\u001b[0m\n\u001b[0m\u001b[1;32m   1793\u001b[0m                         \u001b[0;32mfrom\u001b[0m \u001b[0merror\u001b[0m\u001b[0;34m\u001b[0m\u001b[0;34m\u001b[0m\u001b[0m\n\u001b[1;32m   1794\u001b[0m \u001b[0;34m\u001b[0m\u001b[0m\n",
            "\u001b[0;31mSolutionFailure\u001b[0m: Code 1: No solution strategy found."
          ]
        }
      ],
      "source": [
        "import numpy as np\n",
        "import picos as pic\n",
        "import cvxopt as cvx\n",
        "import random\n",
        "\n",
        "typenum = random.randint(1,4)\n",
        "\n",
        "defnum = random.randint(2,5)\n",
        "attnum = random.randint(2,5)\n",
        "DefenderRF = [[[random.randint(-5,6) for p in range(attnum)] for q in range(defnum)] for r in range(typenum)]\n",
        "AttackerRF = [[[random.randint(-5,6) for p in range(attnum)] for q in range(defnum)] for r in range(typenum)]\n",
        "\n",
        "Prob = [random.randint(1,10) for p in range(typenum)]\n",
        "s = sum(Prob)\n",
        "for i in range(0,len(Prob)):\n",
        "    Prob[i]=Prob[i]/s\n",
        "\n",
        "def DOBSS(AttackerRF,DefenderRF,Prob):\n",
        "    prob = pic.Problem()\n",
        "    l=len(DefenderRF[0])\n",
        "    m=len(DefenderRF[0][0])\n",
        "    tnum=len(DefenderRF)\n",
        "    x = prob.add_variable('x',l,lower=0,upper=1)\n",
        "    na = prob.add_variable('na',(tnum,m),'binary')\n",
        "    v = prob.add_variable('v',tnum)\n",
        "    rfa = pic.new_param('rfa',AttackerRF)\n",
        "    rfd = pic.new_param('rfd',DefenderRF)\n",
        "    pr = pic.new_param('pr',Prob)\n",
        "\n",
        "    prob.add_constraint(pic.sum(x[i] for i in range(l))==1)\n",
        "    for j in range(0,tnum):\n",
        "        prob.add_constraint(pic.sum(na[j,i] for i in range(m))==1)\n",
        "\n",
        "    for j in range(0,tnum):\n",
        "        prob.add_list_of_constraints([v[j]-(x.T*rfa[j])[i]>0 for i in range(m)],'i','[m]')\n",
        "        prob.add_list_of_constraints([v[j]-(x.T*rfa[j])[i]<1000000*(1-na[j,i]) for i in range(m)],'i','[m]')\n",
        "\n",
        "    obj=0\n",
        "    for j in range(0,tnum):\n",
        "        obj=obj+pr[j]*x.T*rfd[j]*(na[j,:]).T\n",
        "\n",
        "    #obj = pic.sum([pr[p]*x.T*rfd[p]*(na[p,:]).T for p in range(tnum)],'p','[tnum]')\n",
        "    prob.set_objective('max',obj)\n",
        "    prob.solve(verbose=0)\n",
        "    return np.array(x),np.array(obj)\n",
        "\n",
        "d0,rew0 = DOBSS(AttackerRF,DefenderRF,Prob)\n",
        "print(\"Final Solution:\\n\")\n",
        "print(\"Stackelberg Strategy:\\n\",d0)\n",
        "print(\"Expected reward: \",rew0)"
      ]
    },
    {
      "cell_type": "code",
      "source": [
        "\n",
        "import numpy as np\n",
        "\n",
        "def solve_bayesian_stackelberg_game(reward_matrix_leader, reward_matrix_follower, num_types):\n",
        "    # first probabilities for the attcker are from a uniform dist\n",
        "    initial_type_probs = np.ones(num_types) / num_types\n",
        "\n",
        "    def leader_optimization(type_probs_follower):\n",
        "        expected_rewards = np.dot(type_probs_follower, reward_matrix_follower)\n",
        "        leader_strategy = np.argmax(expected_rewards)\n",
        "        return leader_strategy\n",
        "\n",
        "    def follower_optimization(type_probs_follower, leader_strategy):\n",
        "        follower_utilities = reward_matrix_leader[:, leader_strategy]\n",
        "        follower_strategy = np.argmax(follower_utilities)\n",
        "        return follower_strategy\n",
        "\n",
        "    # Iterative process\n",
        "    max_iterations = 100\n",
        "    tolerance = 1e-6\n",
        "    type_probs_follower = initial_type_probs\n",
        "    for _ in range(max_iterations):\n",
        "        leader_strategy = leader_optimization(type_probs_follower)\n",
        "        new_type_probs_follower = np.zeros(num_types)\n",
        "        for i in range(num_types):\n",
        "            follower_strategy = follower_optimization(type_probs_follower, leader_strategy)\n",
        "            new_type_probs_follower[i] = np.dot(type_probs_follower, reward_matrix_follower[i, :])\n",
        "        new_type_probs_follower /= np.sum(new_type_probs_follower)\n",
        "\n",
        "        if np.max(np.abs(new_type_probs_follower - type_probs_follower)) < tolerance:\n",
        "            break\n",
        "\n",
        "        type_probs_follower = new_type_probs_follower\n",
        "\n",
        "    return leader_strategy, type_probs_follower\n",
        "\n",
        "# Example reward matrices\n",
        "reward_matrix_leader = np.array([[70, 60], [80, 30]])\n",
        "reward_matrix_follower = np.array([[30, 40], [20, 70]])\n",
        "num_types = 2\n",
        "\n",
        "leader_strategy, type_probs_follower = solve_bayesian_stackelberg_game(\n",
        "    reward_matrix_leader, reward_matrix_follower, num_types\n",
        ")\n",
        "\n",
        "print(\"Leader's Strategy:\", leader_strategy)\n",
        "print(\"Follower's Type Probabilities:\", type_probs_follower)"
      ],
      "metadata": {
        "colab": {
          "base_uri": "https://localhost:8080/"
        },
        "id": "ekikG_zVf8DV",
        "outputId": "6a33eb91-195b-481e-bb19-50d569470c81"
      },
      "execution_count": 15,
      "outputs": [
        {
          "output_type": "stream",
          "name": "stdout",
          "text": [
            "Leader's Strategy: 1\n",
            "Follower's Type Probabilities: [0.42265027 0.57734973]\n"
          ]
        }
      ]
    },
    {
      "cell_type": "code",
      "source": [
        "!pip install cyplex"
      ],
      "metadata": {
        "colab": {
          "base_uri": "https://localhost:8080/"
        },
        "id": "V90c_qO1YKyl",
        "outputId": "c5db77eb-49b8-4740-aef0-4a7c8644bbe9"
      },
      "execution_count": 17,
      "outputs": [
        {
          "output_type": "stream",
          "name": "stdout",
          "text": [
            "\u001b[31mERROR: Could not find a version that satisfies the requirement cyplex (from versions: none)\u001b[0m\u001b[31m\n",
            "\u001b[0m\u001b[31mERROR: No matching distribution found for cyplex\u001b[0m\u001b[31m\n",
            "\u001b[0m"
          ]
        }
      ]
    }
  ]
}